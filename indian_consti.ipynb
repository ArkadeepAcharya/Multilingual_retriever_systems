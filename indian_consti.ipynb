{
 "cells": [
  {
   "cell_type": "code",
   "execution_count": 19,
   "metadata": {},
   "outputs": [],
   "source": [
    "# load document\n",
    "from langchain.document_loaders import PyPDFLoader,TextLoader\n",
    "loader = TextLoader(\"pres.txt\")\n",
    "documents = loader.load()"
   ]
  },
  {
   "cell_type": "code",
   "execution_count": 20,
   "metadata": {},
   "outputs": [
    {
     "name": "stderr",
     "output_type": "stream",
     "text": [
      "Number of requested results 2 is greater than number of elements in index 1, updating n_results = 1\n"
     ]
    }
   ],
   "source": [
    "from langchain.chains import RetrievalQA,ConversationalRetrievalChain\n",
    "from langchain.indexes import VectorstoreIndexCreator\n",
    "from langchain.text_splitter import CharacterTextSplitter\n",
    "from langchain.embeddings import CohereEmbeddings\n",
    "from langchain.vectorstores import Chroma\n",
    "from langchain.llms import Cohere\n",
    "\n",
    "# split the documents into chunks\n",
    "text_splitter = CharacterTextSplitter(chunk_size=5000, chunk_overlap=100)\n",
    "texts = text_splitter.split_documents(documents)\n",
    "# select which embeddings we want to use\n",
    "# embeddings = CohereEmbeddings(\n",
    "#     model='embed-multilingual-v2.0', cohere_api_key=\"9XuV53KZgETnAQXTZuJG8DsQlWaifuF1uZw6EfcO\"\n",
    "# )\n",
    "embeddings = CohereEmbeddings(model = \"multilingual-22-12\",cohere_api_key=\"9XuV53KZgETnAQXTZuJG8DsQlWaifuF1uZw6EfcO\")\n",
    "\n",
    "# create the vectorestore to use as the index\n",
    "db = Chroma.from_documents(texts, embeddings)\n",
    "# expose this index in a retriever interface\n",
    "retriever = db.as_retriever(search_type=\"similarity\", search_kwargs={\"k\":2})\n",
    "# create a chain to answer questions \n",
    "llm = Cohere(cohere_api_key=\"9XuV53KZgETnAQXTZuJG8DsQlWaifuF1uZw6EfcO\",truncate='END')\n",
    "qa = RetrievalQA.from_chain_type(\n",
    "    llm=Cohere(model=\"command-nightly\", temperature=0,cohere_api_key=\"9XuV53KZgETnAQXTZuJG8DsQlWaifuF1uZw6EfcO\",truncate='END'), chain_type=\"stuff\", retriever=retriever, return_source_documents=False)\n",
    "query = \"राष्ट्रपति का कार्य क्या है?\"\n",
    "result = qa({\"query\": query})"
   ]
  },
  {
   "cell_type": "code",
   "execution_count": 21,
   "metadata": {},
   "outputs": [
    {
     "data": {
      "text/plain": [
       "{'query': 'राष्ट्रपति का कार्य क्या है?',\n",
       " 'result': ' The answer is The President of India is the head of state and the commander-in-chief of the Indian Armed Forces.'}"
      ]
     },
     "execution_count": 21,
     "metadata": {},
     "output_type": "execute_result"
    }
   ],
   "source": [
    "result"
   ]
  },
  {
   "cell_type": "code",
   "execution_count": 16,
   "metadata": {},
   "outputs": [
    {
     "ename": "TypeError",
     "evalue": "'Chroma' object is not subscriptable",
     "output_type": "error",
     "traceback": [
      "\u001b[0;31m---------------------------------------------------------------------------\u001b[0m",
      "\u001b[0;31mTypeError\u001b[0m                                 Traceback (most recent call last)",
      "Cell \u001b[0;32mIn[16], line 1\u001b[0m\n\u001b[0;32m----> 1\u001b[0m db[\u001b[39m'\u001b[39;49m\u001b[39membeddings\u001b[39;49m\u001b[39m'\u001b[39;49m]\n",
      "\u001b[0;31mTypeError\u001b[0m: 'Chroma' object is not subscriptable"
     ]
    }
   ],
   "source": [
    "db['embeddings']"
   ]
  },
  {
   "cell_type": "code",
   "execution_count": 22,
   "metadata": {},
   "outputs": [
    {
     "data": {
      "text/plain": [
       "[Document(page_content='शीर्षक: भारत के राष्ट्रपति: नेतृत्व के लिए एक संवैधानिक मार्गदर्शिका\\n\\nपरिचय:\\nभारत के राष्ट्रपति का देश के लोकतांत्रिक ढांचे में सर्वोपरि महत्व का पद है। राज्य के प्रमुख के रूप में, राष्ट्रपति भारतीय संविधान के आदर्शों का प्रतीक हैं और न्याय, अखंडता और एकता के मूल्यों को बनाए रखने में महत्वपूर्ण भूमिका निभाते हैं। यह निबंध भारत के राष्ट्रपति से संबंधित संवैधानिक प्रावधानों की पड़ताल करता है और देश के शासन में इस प्रतिष्ठित कार्यालय के महत्व पर प्रकाश डालता है।\\n\\nभूमिका और कार्य:\\nभारतीय संविधान के अनुसार, राष्ट्रपति देश की एकता का प्रतिनिधित्व करते हुए, राज्य के औपचारिक प्रमुख के रूप में कार्य करता है। अनुच्छेद 52 राष्ट्रपति को भारत के प्रथम नागरिक के रूप में स्थापित करता है और उन्हें संघ की कार्यकारी शक्ति प्रदान करता है। हालाँकि, यह ध्यान रखना महत्वपूर्ण है कि राष्ट्रपति की शक्तियाँ काफी हद तक नाममात्र की होती हैं, वास्तविक कार्यकारी अधिकार प्रधान मंत्री के नेतृत्व वाली मंत्रिपरिषद के पास होता है।\\n\\nचुनाव और कार्यालय का कार्यकाल:\\nअनुच्छेद 54 राष्ट्रपति के चुनाव की प्रक्रिया बताता है। राष्ट्रपति का चुनाव अप्रत्यक्ष रूप से एक निर्वाचक मंडल द्वारा किया जाता है जिसमें संसद के दोनों सदनों के निर्वाचित सदस्यों के साथ-साथ राज्य विधान सभाओं के निर्वाचित सदस्य भी शामिल होते हैं। अनुच्छेद 56 के अनुसार राष्ट्रपति का कार्यकाल पाँच वर्ष का होता है।\\n\\nशक्तियाँ और प्रतिरक्षाएँ:\\nसरकार के सुचारू कामकाज को सुनिश्चित करने के लिए राष्ट्रपति को कुछ शक्तियाँ और छूट प्राप्त हैं। कुछ उल्लेखनीय शक्तियों में शामिल हैं:कार्यकारी शक्तियाँ: राष्ट्रपति प्रधान मंत्री की नियुक्ति करता है, जिसकी सलाह पर अन्य मंत्रियों की नियुक्ति की जाती है। राष्ट्रपति भारत के मुख्य न्यायाधीश और सर्वोच्च न्यायालय और उच्च न्यायालयों के अन्य न्यायाधीशों, अटॉर्नी जनरल और अन्य महत्वपूर्ण संवैधानिक पदाधिकारियों की नियुक्ति भी करता है।\\n\\n    विधायी शक्तियाँ: राष्ट्रपति संसद के सत्र बुलाता है और स्थगित करता है, दोनों सदनों को संबोधित करता है, और संसद द्वारा पारित विधेयकों को सहमति देता है। कुछ मामलों में राष्ट्रपति किसी विधेयक को पुनर्विचार के लिए लौटा सकता है।\\n\\n    वित्तीय शक्तियाँ: राष्ट्रपति वार्षिक बजट, साथ ही धन विधेयक को संसद में पेश करता है। राष्ट्रपति की अनुमति के बिना भारत की संचित निधि से कोई पैसा नहीं निकाला जा सकता।\\n\\n    आपातकालीन शक्तियाँ: राष्ट्रीय आपातकाल के समय में, राष्ट्रपति आपातकाल की स्थिति घोषित कर सकता है, सामान्य शासन को निलंबित कर सकता है और सरकार को असाधारण शक्तियाँ प्रदान कर सकता है।\\n\\n    राजनयिक शक्तियाँ: राष्ट्रपति अंतर्राष्ट्रीय मामलों में भारत का प्रतिनिधित्व करता है और विदेशी राजदूतों और राजनयिकों से परिचय पत्र प्राप्त करता है।\\n\\nअनुच्छेद 361 राष्ट्रपति को कुछ प्रतिरक्षा प्रदान करता है, यह सुनिश्चित करते हुए कि उन्हें अपनी आधिकारिक क्षमता में किए गए किसी भी कार्य के लिए व्यक्तिगत रूप से उत्तरदायी नहीं ठहराया जा सकता है।\\nसंवैधानिक संरक्षक के रूप में भूमिका:\\nराष्ट्रपति एक संवैधानिक संरक्षक के रूप में कार्य करता है, यह सुनिश्चित करते हुए कि सरकार के कार्य संविधान में निहित सिद्धांतों का पालन करते हैं। राष्ट्रपति के पास सरकार के मामलों के संबंध में प्रधान मंत्री से जानकारी मांगने की शक्ति है और वह अधिकारियों की नियुक्ति या बर्खास्तगी के मामलों में अपने विवेक का प्रयोग कर सकते हैं।\\n\\nनिष्कर्ष:\\nभारत के राष्ट्रपति का कार्यालय देश के संवैधानिक ढांचे में एक महत्वपूर्ण स्थान रखता है। हालाँकि राष्ट्रपति की शक्तियाँ काफी हद तक औपचारिक हैं, राष्ट्रीय एकता के प्रतीक और संविधान के संरक्षक के रूप में उनकी भूमिका महत्वपूर्ण है। भारतीय संविधान में निहित मूल्यों और आदर्शों को अपनाकर, भारत के राष्ट्रपति राष्ट्र के लिए लोकतांत्रिक सिद्धांतों और एकता के प्रतीक के रूप में कार्य करते हैं।', metadata={'source': 'pres.txt'})]"
      ]
     },
     "execution_count": 22,
     "metadata": {},
     "output_type": "execute_result"
    }
   ],
   "source": [
    "texts"
   ]
  },
  {
   "cell_type": "code",
   "execution_count": 18,
   "metadata": {},
   "outputs": [
    {
     "data": {
      "text/plain": [
       "'राष्ट्रपति का कार्य क्या है?'"
      ]
     },
     "execution_count": 18,
     "metadata": {},
     "output_type": "execute_result"
    }
   ],
   "source": [
    "query"
   ]
  },
  {
   "cell_type": "code",
   "execution_count": null,
   "metadata": {},
   "outputs": [],
   "source": []
  }
 ],
 "metadata": {
  "kernelspec": {
   "display_name": "cohere",
   "language": "python",
   "name": "python3"
  },
  "language_info": {
   "codemirror_mode": {
    "name": "ipython",
    "version": 3
   },
   "file_extension": ".py",
   "mimetype": "text/x-python",
   "name": "python",
   "nbconvert_exporter": "python",
   "pygments_lexer": "ipython3",
   "version": "3.10.6"
  },
  "orig_nbformat": 4
 },
 "nbformat": 4,
 "nbformat_minor": 2
}
